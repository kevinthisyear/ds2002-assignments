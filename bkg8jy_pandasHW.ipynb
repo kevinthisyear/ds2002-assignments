{
 "cells": [
  {
   "cell_type": "code",
   "execution_count": 33,
   "id": "initial_id",
   "metadata": {
    "collapsed": true,
    "ExecuteTime": {
     "end_time": "2024-09-23T23:05:15.274961Z",
     "start_time": "2024-09-23T23:05:15.252027Z"
    }
   },
   "outputs": [
    {
     "data": {
      "text/plain": "   Rk         Player Class Pos          School   G   MP  TRB  AST  STL  ...  \\\n0   1   Amaree Abram    SO   G    Georgia Tech  10  108   17   11    1  ...   \n1   2   Sola Adebisi    FR   F   Florida State   7    9    1    1    0  ...   \n2   3  Prince Aligbe    SO   F  Boston College  35  651  119   21   15  ...   \n3   4     Abe Atiyeh    SR   G  Boston College   4    6    0    0    0  ...   \n4   5    Zack Austin    JR   F      Pittsburgh  33  746  137   29   32  ...   \n\n   TOV  PF  PTS    FG%    2P%    3P%    FT%   PER   WS  BPM  \n0    9  10   34  0.262  0.318  0.200  0.615   4.1 -0.1 -6.4  \n1    1   1    2  0.500  0.500    NaN    NaN   3.5  0.0 -6.7  \n2   30  51  164  0.435  0.522  0.147  0.620   9.4  0.9 -1.3  \n3    1   0    3  0.333  0.000  1.000    NaN   1.1  0.0 -8.2  \n4   13  35  216  0.417  0.563  0.295  0.737  18.0  2.9  7.9  \n\n[5 rows x 21 columns]",
      "text/html": "<div>\n<style scoped>\n    .dataframe tbody tr th:only-of-type {\n        vertical-align: middle;\n    }\n\n    .dataframe tbody tr th {\n        vertical-align: top;\n    }\n\n    .dataframe thead th {\n        text-align: right;\n    }\n</style>\n<table border=\"1\" class=\"dataframe\">\n  <thead>\n    <tr style=\"text-align: right;\">\n      <th></th>\n      <th>Rk</th>\n      <th>Player</th>\n      <th>Class</th>\n      <th>Pos</th>\n      <th>School</th>\n      <th>G</th>\n      <th>MP</th>\n      <th>TRB</th>\n      <th>AST</th>\n      <th>STL</th>\n      <th>...</th>\n      <th>TOV</th>\n      <th>PF</th>\n      <th>PTS</th>\n      <th>FG%</th>\n      <th>2P%</th>\n      <th>3P%</th>\n      <th>FT%</th>\n      <th>PER</th>\n      <th>WS</th>\n      <th>BPM</th>\n    </tr>\n  </thead>\n  <tbody>\n    <tr>\n      <th>0</th>\n      <td>1</td>\n      <td>Amaree Abram</td>\n      <td>SO</td>\n      <td>G</td>\n      <td>Georgia Tech</td>\n      <td>10</td>\n      <td>108</td>\n      <td>17</td>\n      <td>11</td>\n      <td>1</td>\n      <td>...</td>\n      <td>9</td>\n      <td>10</td>\n      <td>34</td>\n      <td>0.262</td>\n      <td>0.318</td>\n      <td>0.200</td>\n      <td>0.615</td>\n      <td>4.1</td>\n      <td>-0.1</td>\n      <td>-6.4</td>\n    </tr>\n    <tr>\n      <th>1</th>\n      <td>2</td>\n      <td>Sola Adebisi</td>\n      <td>FR</td>\n      <td>F</td>\n      <td>Florida State</td>\n      <td>7</td>\n      <td>9</td>\n      <td>1</td>\n      <td>1</td>\n      <td>0</td>\n      <td>...</td>\n      <td>1</td>\n      <td>1</td>\n      <td>2</td>\n      <td>0.500</td>\n      <td>0.500</td>\n      <td>NaN</td>\n      <td>NaN</td>\n      <td>3.5</td>\n      <td>0.0</td>\n      <td>-6.7</td>\n    </tr>\n    <tr>\n      <th>2</th>\n      <td>3</td>\n      <td>Prince Aligbe</td>\n      <td>SO</td>\n      <td>F</td>\n      <td>Boston College</td>\n      <td>35</td>\n      <td>651</td>\n      <td>119</td>\n      <td>21</td>\n      <td>15</td>\n      <td>...</td>\n      <td>30</td>\n      <td>51</td>\n      <td>164</td>\n      <td>0.435</td>\n      <td>0.522</td>\n      <td>0.147</td>\n      <td>0.620</td>\n      <td>9.4</td>\n      <td>0.9</td>\n      <td>-1.3</td>\n    </tr>\n    <tr>\n      <th>3</th>\n      <td>4</td>\n      <td>Abe Atiyeh</td>\n      <td>SR</td>\n      <td>G</td>\n      <td>Boston College</td>\n      <td>4</td>\n      <td>6</td>\n      <td>0</td>\n      <td>0</td>\n      <td>0</td>\n      <td>...</td>\n      <td>1</td>\n      <td>0</td>\n      <td>3</td>\n      <td>0.333</td>\n      <td>0.000</td>\n      <td>1.000</td>\n      <td>NaN</td>\n      <td>1.1</td>\n      <td>0.0</td>\n      <td>-8.2</td>\n    </tr>\n    <tr>\n      <th>4</th>\n      <td>5</td>\n      <td>Zack Austin</td>\n      <td>JR</td>\n      <td>F</td>\n      <td>Pittsburgh</td>\n      <td>33</td>\n      <td>746</td>\n      <td>137</td>\n      <td>29</td>\n      <td>32</td>\n      <td>...</td>\n      <td>13</td>\n      <td>35</td>\n      <td>216</td>\n      <td>0.417</td>\n      <td>0.563</td>\n      <td>0.295</td>\n      <td>0.737</td>\n      <td>18.0</td>\n      <td>2.9</td>\n      <td>7.9</td>\n    </tr>\n  </tbody>\n</table>\n<p>5 rows × 21 columns</p>\n</div>"
     },
     "metadata": {},
     "output_type": "display_data"
    }
   ],
   "source": [
    "import pandas as pd\n",
    "acc_players_df = pd.read_csv('/Users/kevinlam/Downloads/acc_players-2324F.csv', sep=',', encoding='latin1', skiprows=1)\n",
    "\n",
    "display(acc_players_df.head())"
   ]
  },
  {
   "cell_type": "code",
   "execution_count": 34,
   "outputs": [
    {
     "name": "stdout",
     "output_type": "stream",
     "text": [
      "38411\n"
     ]
    }
   ],
   "source": [
    "# Basic Analysis\n",
    "print(acc_players_df['PTS'].sum())"
   ],
   "metadata": {
    "collapsed": false,
    "ExecuteTime": {
     "end_time": "2024-09-23T23:05:15.275377Z",
     "start_time": "2024-09-23T23:05:15.269250Z"
    }
   },
   "id": "956dcf2d6f60caa4"
  },
  {
   "cell_type": "code",
   "execution_count": 35,
   "outputs": [
    {
     "data": {
      "text/plain": "Rk                  136\nPlayer    Casey Morsell\nClass                SR\nPos                   G\nSchool         NC State\nG                    41\nMP                 1333\nTRB                 114\nAST                  67\nSTL                  46\nBLK                  19\nTOV                  38\nPF                   86\nPTS                 455\nFG%               0.406\n2P%               0.478\n3P%                0.27\nFT%               0.806\nPER                13.4\nWS                  3.2\nBPM                 2.5\nName: 135, dtype: object"
     },
     "execution_count": 35,
     "metadata": {},
     "output_type": "execute_result"
    }
   ],
   "source": [
    "acc_players_df.loc[acc_players_df['MP'].idxmax()]"
   ],
   "metadata": {
    "collapsed": false,
    "ExecuteTime": {
     "end_time": "2024-09-23T23:05:15.276975Z",
     "start_time": "2024-09-23T23:05:15.271591Z"
    }
   },
   "id": "4a9fba933d645985"
  },
  {
   "cell_type": "code",
   "execution_count": 36,
   "outputs": [
    {
     "data": {
      "text/plain": "      Rk           Player Class Pos          School   G    MP  TRB  AST  STL  \\\n5      6    Armando Bacot    SR   F  North Carolina  37  1123  380   56   22   \n178  179  Ian Schieffelin    JR   F         Clemson  36   989  340   80   21   \n90    91  Harrison Ingram    SO   F  North Carolina  37  1213  327   80   51   \n44    45   Mohamed Diarra    SR   F        NC State  40   882  311   24   28   \n149  150    Norchad Omier    JR   F      Miami (FL)  31   948  309   38   47   \n\n     ...  TOV   PF  PTS    FG%    2P%    3P%    FT%   PER   WS  BPM  \n5    ...   60  100  538  0.540  0.544  0.400  0.781  24.6  6.1  8.9  \n178  ...   45   95  365  0.564  0.588  0.469  0.731  22.5  4.9  8.8  \n90   ...   51   71  451  0.430  0.467  0.385  0.612  18.3  4.9  8.5  \n44   ...   26   66  253  0.477  0.568  0.309  0.658  18.9  3.4  6.2  \n149  ...   72   91  528  0.552  0.598  0.353  0.750  26.8  4.7  6.6  \n\n[5 rows x 21 columns]",
      "text/html": "<div>\n<style scoped>\n    .dataframe tbody tr th:only-of-type {\n        vertical-align: middle;\n    }\n\n    .dataframe tbody tr th {\n        vertical-align: top;\n    }\n\n    .dataframe thead th {\n        text-align: right;\n    }\n</style>\n<table border=\"1\" class=\"dataframe\">\n  <thead>\n    <tr style=\"text-align: right;\">\n      <th></th>\n      <th>Rk</th>\n      <th>Player</th>\n      <th>Class</th>\n      <th>Pos</th>\n      <th>School</th>\n      <th>G</th>\n      <th>MP</th>\n      <th>TRB</th>\n      <th>AST</th>\n      <th>STL</th>\n      <th>...</th>\n      <th>TOV</th>\n      <th>PF</th>\n      <th>PTS</th>\n      <th>FG%</th>\n      <th>2P%</th>\n      <th>3P%</th>\n      <th>FT%</th>\n      <th>PER</th>\n      <th>WS</th>\n      <th>BPM</th>\n    </tr>\n  </thead>\n  <tbody>\n    <tr>\n      <th>5</th>\n      <td>6</td>\n      <td>Armando Bacot</td>\n      <td>SR</td>\n      <td>F</td>\n      <td>North Carolina</td>\n      <td>37</td>\n      <td>1123</td>\n      <td>380</td>\n      <td>56</td>\n      <td>22</td>\n      <td>...</td>\n      <td>60</td>\n      <td>100</td>\n      <td>538</td>\n      <td>0.540</td>\n      <td>0.544</td>\n      <td>0.400</td>\n      <td>0.781</td>\n      <td>24.6</td>\n      <td>6.1</td>\n      <td>8.9</td>\n    </tr>\n    <tr>\n      <th>178</th>\n      <td>179</td>\n      <td>Ian Schieffelin</td>\n      <td>JR</td>\n      <td>F</td>\n      <td>Clemson</td>\n      <td>36</td>\n      <td>989</td>\n      <td>340</td>\n      <td>80</td>\n      <td>21</td>\n      <td>...</td>\n      <td>45</td>\n      <td>95</td>\n      <td>365</td>\n      <td>0.564</td>\n      <td>0.588</td>\n      <td>0.469</td>\n      <td>0.731</td>\n      <td>22.5</td>\n      <td>4.9</td>\n      <td>8.8</td>\n    </tr>\n    <tr>\n      <th>90</th>\n      <td>91</td>\n      <td>Harrison Ingram</td>\n      <td>SO</td>\n      <td>F</td>\n      <td>North Carolina</td>\n      <td>37</td>\n      <td>1213</td>\n      <td>327</td>\n      <td>80</td>\n      <td>51</td>\n      <td>...</td>\n      <td>51</td>\n      <td>71</td>\n      <td>451</td>\n      <td>0.430</td>\n      <td>0.467</td>\n      <td>0.385</td>\n      <td>0.612</td>\n      <td>18.3</td>\n      <td>4.9</td>\n      <td>8.5</td>\n    </tr>\n    <tr>\n      <th>44</th>\n      <td>45</td>\n      <td>Mohamed Diarra</td>\n      <td>SR</td>\n      <td>F</td>\n      <td>NC State</td>\n      <td>40</td>\n      <td>882</td>\n      <td>311</td>\n      <td>24</td>\n      <td>28</td>\n      <td>...</td>\n      <td>26</td>\n      <td>66</td>\n      <td>253</td>\n      <td>0.477</td>\n      <td>0.568</td>\n      <td>0.309</td>\n      <td>0.658</td>\n      <td>18.9</td>\n      <td>3.4</td>\n      <td>6.2</td>\n    </tr>\n    <tr>\n      <th>149</th>\n      <td>150</td>\n      <td>Norchad Omier</td>\n      <td>JR</td>\n      <td>F</td>\n      <td>Miami (FL)</td>\n      <td>31</td>\n      <td>948</td>\n      <td>309</td>\n      <td>38</td>\n      <td>47</td>\n      <td>...</td>\n      <td>72</td>\n      <td>91</td>\n      <td>528</td>\n      <td>0.552</td>\n      <td>0.598</td>\n      <td>0.353</td>\n      <td>0.750</td>\n      <td>26.8</td>\n      <td>4.7</td>\n      <td>6.6</td>\n    </tr>\n  </tbody>\n</table>\n<p>5 rows × 21 columns</p>\n</div>"
     },
     "execution_count": 36,
     "metadata": {},
     "output_type": "execute_result"
    }
   ],
   "source": [
    "acc_players_df.nlargest(5, 'TRB')"
   ],
   "metadata": {
    "collapsed": false,
    "ExecuteTime": {
     "end_time": "2024-09-23T23:05:15.289909Z",
     "start_time": "2024-09-23T23:05:15.284506Z"
    }
   },
   "id": "60fc86831ca424a8"
  },
  {
   "cell_type": "code",
   "execution_count": 37,
   "outputs": [
    {
     "name": "stdout",
     "output_type": "stream",
     "text": [
      "      Rk            Player Class Pos          School   G    MP  TRB  AST  STL  \\\n",
      "2      3     Prince Aligbe    SO   F  Boston College  35   651  119   21   15   \n",
      "4      5       Zack Austin    JR   F      Pittsburgh  33   746  137   29   32   \n",
      "5      6     Armando Bacot    SR   F  North Carolina  37  1123  380   56   22   \n",
      "7      8     Reece Beekman    SR   G        Virginia  34  1114  124  212   68   \n",
      "9     10        Chris Bell    SO   F        Syracuse  32   865   75   21   18   \n",
      "..   ...               ...   ...  ..             ...  ..   ...  ...  ...  ...   \n",
      "203  204     Jamir Watkins    JR   F   Florida State  33   928  199   91   64   \n",
      "206  207         Tre White    SO   G      Louisville  29   907  170   39   24   \n",
      "207  208  Chauncey Wiggins    SO   F         Clemson  36   639   76   33    6   \n",
      "209  210   Curtis Williams    FR   G      Louisville  32   564   42   20   12   \n",
      "215  216    Jaeden Zackery    JR   G  Boston College  36  1216  119  152   63   \n",
      "\n",
      "     ...  TOV   PF  PTS    FG%    2P%    3P%    FT%   PER   WS   BPM  \n",
      "2    ...   30   51  164  0.435  0.522  0.147  0.620   9.4  0.9  -1.3  \n",
      "4    ...   13   35  216  0.417  0.563  0.295  0.737  18.0  2.9   7.9  \n",
      "5    ...   60  100  538  0.540  0.544  0.400  0.781  24.6  6.1   8.9  \n",
      "7    ...   70   43  486  0.443  0.487  0.310  0.754  23.4  4.9  10.5  \n",
      "9    ...   26   58  384  0.434  0.459  0.420  0.842  14.9  2.2   3.3  \n",
      "..   ...  ...  ...  ...    ...    ...    ...    ...   ...  ...   ...  \n",
      "203  ...   84   92  514  0.457  0.500  0.344  0.795  24.2  3.9   9.1  \n",
      "206  ...   53   66  357  0.456  0.515  0.299  0.752  15.0  1.7   1.8  \n",
      "207  ...   26   46  196  0.442  0.528  0.349  0.714  11.0  1.2   1.9  \n",
      "209  ...   26   24  170  0.317  0.373  0.287  0.714   5.9 -0.2  -3.8  \n",
      "215  ...   71   78  408  0.484  0.511  0.405  0.824  16.4  3.7   3.5  \n",
      "\n",
      "[98 rows x 21 columns]\n"
     ]
    }
   ],
   "source": [
    "# Player Filtering\n",
    "over500 = acc_players_df[acc_players_df['MP'] > 500]\n",
    "print(over500)"
   ],
   "metadata": {
    "collapsed": false,
    "ExecuteTime": {
     "end_time": "2024-09-23T23:05:15.324349Z",
     "start_time": "2024-09-23T23:05:15.292490Z"
    }
   },
   "id": "36f9cbf11275c701"
  },
  {
   "cell_type": "code",
   "execution_count": 38,
   "outputs": [
    {
     "data": {
      "text/plain": "Rk                    8\nPlayer    Reece Beekman\nClass                SR\nPos                   G\nSchool         Virginia\nG                    34\nMP                 1114\nTRB                 124\nAST                 212\nSTL                  68\nBLK                  17\nTOV                  70\nPF                   43\nPTS                 486\nFG%               0.443\n2P%               0.487\n3P%                0.31\nFT%               0.754\nPER                23.4\nWS                  4.9\nBPM                10.5\nName: 7, dtype: object"
     },
     "execution_count": 38,
     "metadata": {},
     "output_type": "execute_result"
    }
   ],
   "source": [
    "over500.loc[over500['AST'].idxmax()]"
   ],
   "metadata": {
    "collapsed": false,
    "ExecuteTime": {
     "end_time": "2024-09-23T23:05:15.343586Z",
     "start_time": "2024-09-23T23:05:15.296283Z"
    }
   },
   "id": "94d45ea9016168"
  },
  {
   "cell_type": "code",
   "execution_count": 39,
   "outputs": [
    {
     "data": {
      "text/plain": "      Rk          Player Class Pos          School   G    MP  TRB  AST  STL  \\\n7      8   Reece Beekman    SR   G        Virginia  34  1114  124  212   68   \n215  216  Jaeden Zackery    JR   G  Boston College  36  1216  119  152   63   \n21    22   Elliot Cadeau    FR   G  North Carolina  37   882   81  150   29   \n\n     ...  TOV  PF  PTS    FG%    2P%    3P%    FT%   PER   WS   BPM  \n7    ...   70  43  486  0.443  0.487  0.310  0.754  23.4  4.9  10.5  \n215  ...   71  78  408  0.484  0.511  0.405  0.824  16.4  3.7   3.5  \n21   ...   67  84  271  0.417  0.481  0.189  0.648  11.7  2.1   1.8  \n\n[3 rows x 21 columns]",
      "text/html": "<div>\n<style scoped>\n    .dataframe tbody tr th:only-of-type {\n        vertical-align: middle;\n    }\n\n    .dataframe tbody tr th {\n        vertical-align: top;\n    }\n\n    .dataframe thead th {\n        text-align: right;\n    }\n</style>\n<table border=\"1\" class=\"dataframe\">\n  <thead>\n    <tr style=\"text-align: right;\">\n      <th></th>\n      <th>Rk</th>\n      <th>Player</th>\n      <th>Class</th>\n      <th>Pos</th>\n      <th>School</th>\n      <th>G</th>\n      <th>MP</th>\n      <th>TRB</th>\n      <th>AST</th>\n      <th>STL</th>\n      <th>...</th>\n      <th>TOV</th>\n      <th>PF</th>\n      <th>PTS</th>\n      <th>FG%</th>\n      <th>2P%</th>\n      <th>3P%</th>\n      <th>FT%</th>\n      <th>PER</th>\n      <th>WS</th>\n      <th>BPM</th>\n    </tr>\n  </thead>\n  <tbody>\n    <tr>\n      <th>7</th>\n      <td>8</td>\n      <td>Reece Beekman</td>\n      <td>SR</td>\n      <td>G</td>\n      <td>Virginia</td>\n      <td>34</td>\n      <td>1114</td>\n      <td>124</td>\n      <td>212</td>\n      <td>68</td>\n      <td>...</td>\n      <td>70</td>\n      <td>43</td>\n      <td>486</td>\n      <td>0.443</td>\n      <td>0.487</td>\n      <td>0.310</td>\n      <td>0.754</td>\n      <td>23.4</td>\n      <td>4.9</td>\n      <td>10.5</td>\n    </tr>\n    <tr>\n      <th>215</th>\n      <td>216</td>\n      <td>Jaeden Zackery</td>\n      <td>JR</td>\n      <td>G</td>\n      <td>Boston College</td>\n      <td>36</td>\n      <td>1216</td>\n      <td>119</td>\n      <td>152</td>\n      <td>63</td>\n      <td>...</td>\n      <td>71</td>\n      <td>78</td>\n      <td>408</td>\n      <td>0.484</td>\n      <td>0.511</td>\n      <td>0.405</td>\n      <td>0.824</td>\n      <td>16.4</td>\n      <td>3.7</td>\n      <td>3.5</td>\n    </tr>\n    <tr>\n      <th>21</th>\n      <td>22</td>\n      <td>Elliot Cadeau</td>\n      <td>FR</td>\n      <td>G</td>\n      <td>North Carolina</td>\n      <td>37</td>\n      <td>882</td>\n      <td>81</td>\n      <td>150</td>\n      <td>29</td>\n      <td>...</td>\n      <td>67</td>\n      <td>84</td>\n      <td>271</td>\n      <td>0.417</td>\n      <td>0.481</td>\n      <td>0.189</td>\n      <td>0.648</td>\n      <td>11.7</td>\n      <td>2.1</td>\n      <td>1.8</td>\n    </tr>\n  </tbody>\n</table>\n<p>3 rows × 21 columns</p>\n</div>"
     },
     "execution_count": 39,
     "metadata": {},
     "output_type": "execute_result"
    }
   ],
   "source": [
    "acc_players_df.nlargest(3, 'AST')"
   ],
   "metadata": {
    "collapsed": false,
    "ExecuteTime": {
     "end_time": "2024-09-23T23:05:15.344058Z",
     "start_time": "2024-09-23T23:05:15.298820Z"
    }
   },
   "id": "ad2e165523533a4d"
  },
  {
   "cell_type": "code",
   "execution_count": 40,
   "outputs": [
    {
     "data": {
      "text/plain": "      Rk         Player Class Pos          School   G    MP  TRB  AST  STL  \\\n51    52      Ryan Dunn    SO   G        Virginia  34   935  235   26   44   \n157  158   Quinten Post    SR   F  Boston College  35  1115  284  100   30   \n5      6  Armando Bacot    SR   F  North Carolina  37  1123  380   56   22   \n\n     ...  TOV   PF  PTS    FG%    2P%    3P%    FT%   PER   WS  BPM  \n51   ...   28   70  276  0.548  0.618  0.200  0.532  22.0  4.2  7.2  \n157  ...   86  100  595  0.514  0.544  0.431  0.821  25.6  5.1  9.6  \n5    ...   60  100  538  0.540  0.544  0.400  0.781  24.6  6.1  8.9  \n\n[3 rows x 21 columns]",
      "text/html": "<div>\n<style scoped>\n    .dataframe tbody tr th:only-of-type {\n        vertical-align: middle;\n    }\n\n    .dataframe tbody tr th {\n        vertical-align: top;\n    }\n\n    .dataframe thead th {\n        text-align: right;\n    }\n</style>\n<table border=\"1\" class=\"dataframe\">\n  <thead>\n    <tr style=\"text-align: right;\">\n      <th></th>\n      <th>Rk</th>\n      <th>Player</th>\n      <th>Class</th>\n      <th>Pos</th>\n      <th>School</th>\n      <th>G</th>\n      <th>MP</th>\n      <th>TRB</th>\n      <th>AST</th>\n      <th>STL</th>\n      <th>...</th>\n      <th>TOV</th>\n      <th>PF</th>\n      <th>PTS</th>\n      <th>FG%</th>\n      <th>2P%</th>\n      <th>3P%</th>\n      <th>FT%</th>\n      <th>PER</th>\n      <th>WS</th>\n      <th>BPM</th>\n    </tr>\n  </thead>\n  <tbody>\n    <tr>\n      <th>51</th>\n      <td>52</td>\n      <td>Ryan Dunn</td>\n      <td>SO</td>\n      <td>G</td>\n      <td>Virginia</td>\n      <td>34</td>\n      <td>935</td>\n      <td>235</td>\n      <td>26</td>\n      <td>44</td>\n      <td>...</td>\n      <td>28</td>\n      <td>70</td>\n      <td>276</td>\n      <td>0.548</td>\n      <td>0.618</td>\n      <td>0.200</td>\n      <td>0.532</td>\n      <td>22.0</td>\n      <td>4.2</td>\n      <td>7.2</td>\n    </tr>\n    <tr>\n      <th>157</th>\n      <td>158</td>\n      <td>Quinten Post</td>\n      <td>SR</td>\n      <td>F</td>\n      <td>Boston College</td>\n      <td>35</td>\n      <td>1115</td>\n      <td>284</td>\n      <td>100</td>\n      <td>30</td>\n      <td>...</td>\n      <td>86</td>\n      <td>100</td>\n      <td>595</td>\n      <td>0.514</td>\n      <td>0.544</td>\n      <td>0.431</td>\n      <td>0.821</td>\n      <td>25.6</td>\n      <td>5.1</td>\n      <td>9.6</td>\n    </tr>\n    <tr>\n      <th>5</th>\n      <td>6</td>\n      <td>Armando Bacot</td>\n      <td>SR</td>\n      <td>F</td>\n      <td>North Carolina</td>\n      <td>37</td>\n      <td>1123</td>\n      <td>380</td>\n      <td>56</td>\n      <td>22</td>\n      <td>...</td>\n      <td>60</td>\n      <td>100</td>\n      <td>538</td>\n      <td>0.540</td>\n      <td>0.544</td>\n      <td>0.400</td>\n      <td>0.781</td>\n      <td>24.6</td>\n      <td>6.1</td>\n      <td>8.9</td>\n    </tr>\n  </tbody>\n</table>\n<p>3 rows × 21 columns</p>\n</div>"
     },
     "execution_count": 40,
     "metadata": {},
     "output_type": "execute_result"
    }
   ],
   "source": [
    "acc_players_df.nlargest(3, 'BLK')"
   ],
   "metadata": {
    "collapsed": false,
    "ExecuteTime": {
     "end_time": "2024-09-23T23:05:15.344331Z",
     "start_time": "2024-09-23T23:05:15.307595Z"
    }
   },
   "id": "d638486a39897b6f"
  },
  {
   "cell_type": "code",
   "execution_count": 47,
   "outputs": [
    {
     "data": {
      "text/plain": "School\nBoston College    2667\nClemson           2785\nDuke              2830\nFlorida State     2526\nGeorgia Tech      2272\nLouisville        2304\nMiami (FL)        2424\nNC State          3101\nNorth Carolina    3032\nNotre Dame        2113\nPittsburgh        2495\nSyracuse          2442\nVirginia          2140\nVirginia Tech     2547\nWake Forest       2733\nName: PTS, dtype: int64"
     },
     "execution_count": 47,
     "metadata": {},
     "output_type": "execute_result"
    }
   ],
   "source": [
    "# School-Based Analysis\n",
    "pointsperschool = acc_players_df.groupby('School')['PTS'].sum()\n",
    "acc_players_df.groupby('School')['PTS'].sum()"
   ],
   "metadata": {
    "collapsed": false,
    "ExecuteTime": {
     "end_time": "2024-09-23T23:07:11.498836Z",
     "start_time": "2024-09-23T23:07:11.486896Z"
    }
   },
   "id": "19e3a7c9ab6d00c3"
  },
  {
   "cell_type": "code",
   "execution_count": 42,
   "outputs": [
    {
     "data": {
      "text/plain": "School\nBoston College    509\nClemson           533\nDuke              551\nFlorida State     406\nGeorgia Tech      425\nLouisville        356\nMiami (FL)        454\nNC State          536\nNorth Carolina    536\nNotre Dame        335\nPittsburgh        452\nSyracuse          442\nVirginia          509\nVirginia Tech     514\nWake Forest       429\nName: AST, dtype: int64"
     },
     "execution_count": 42,
     "metadata": {},
     "output_type": "execute_result"
    }
   ],
   "source": [
    "acc_players_df.groupby('School')['AST'].sum()"
   ],
   "metadata": {
    "collapsed": false,
    "ExecuteTime": {
     "end_time": "2024-09-23T23:05:15.344563Z",
     "start_time": "2024-09-23T23:05:15.320777Z"
    }
   },
   "id": "d7eeda396d07b3f"
  },
  {
   "cell_type": "code",
   "execution_count": 43,
   "outputs": [
    {
     "data": {
      "text/plain": "School\nNC State          3101\nNorth Carolina    3032\nDuke              2830\nName: PTS, dtype: int64"
     },
     "execution_count": 43,
     "metadata": {},
     "output_type": "execute_result"
    }
   ],
   "source": [
    "pointsperschool.sort_values(ascending=False).head(3)"
   ],
   "metadata": {
    "collapsed": false,
    "ExecuteTime": {
     "end_time": "2024-09-23T23:05:15.375994Z",
     "start_time": "2024-09-23T23:05:15.326205Z"
    }
   },
   "id": "22945167011e6337"
  },
  {
   "cell_type": "code",
   "execution_count": 44,
   "outputs": [],
   "source": [
    "# What did you learn about working with CSV files and pandas DataFrames in this assignment?\n",
    "\n",
    "# This assignment helped me feel more confident using pandas for data analysis. I learned how to handle \n",
    "# different CSV file formats, skip unnecessary rows, and deal with missing values without losing important \n",
    "# information. I also practiced filtering data based on specific conditions and performing calculations like \n",
    "# summing totals or finding averages. These skills are essential for exploring and understanding data, whether\n",
    "# it’s to identify trends or make predictions. I can see how these techniques would be useful in future \n",
    "# projects, from analyzing market trends to tracking user behavior."
   ],
   "metadata": {
    "collapsed": false,
    "ExecuteTime": {
     "end_time": "2024-09-23T23:05:15.376694Z",
     "start_time": "2024-09-23T23:05:15.329125Z"
    }
   },
   "id": "18c61602c3f189b3"
  },
  {
   "cell_type": "code",
   "execution_count": 45,
   "outputs": [],
   "source": [
    "# What was the most challenging aspect of this assignment, and how did you overcome it?\n",
    "\n",
    "# One of the biggest challenges was making sure my data analysis was accurate. I had to be creative and break\n",
    "# down the task into smaller steps to get the results I needed. Another tricky part was managing missing \n",
    "# values in key columns like shooting percentages, which could skew the data if not handled properly. To get \n",
    "# through these challenges, I took my time to double-check each step and used visual tools like scatter plots \n",
    "# to make sure I was on the right track."
   ],
   "metadata": {
    "collapsed": false,
    "ExecuteTime": {
     "end_time": "2024-09-23T23:05:15.376851Z",
     "start_time": "2024-09-23T23:05:15.331591Z"
    }
   },
   "id": "3eb7c5f5336a7b6f"
  },
  {
   "cell_type": "code",
   "execution_count": 46,
   "outputs": [],
   "source": [
    "# How do you think the insights gained from analyzing ACC basketball statistics could be applied to other \n",
    "# real-world datasets?\n",
    "\n",
    "# The skills I learned in this project can be applied to many different fields beyond sports. Whether it’s \n",
    "# looking at business performance, healthcare outcomes, or educational data, the ability to analyze and \n",
    "# interpret information is incredibly valuable. This experience showed me how to dig into data and find \n",
    "# insights that can drive decision-making. It’s cool to think about using these techniques in real-world \n",
    "# situations where data analysis can help solve problems and inform strategies across a variety of industries."
   ],
   "metadata": {
    "collapsed": false,
    "ExecuteTime": {
     "end_time": "2024-09-23T23:05:15.406332Z",
     "start_time": "2024-09-23T23:05:15.336229Z"
    }
   },
   "id": "30092677fd01756b"
  },
  {
   "cell_type": "markdown",
   "source": [],
   "metadata": {
    "collapsed": false
   },
   "id": "878955a10a71aae3"
  }
 ],
 "metadata": {
  "kernelspec": {
   "display_name": "Python 3",
   "language": "python",
   "name": "python3"
  },
  "language_info": {
   "codemirror_mode": {
    "name": "ipython",
    "version": 2
   },
   "file_extension": ".py",
   "mimetype": "text/x-python",
   "name": "python",
   "nbconvert_exporter": "python",
   "pygments_lexer": "ipython2",
   "version": "2.7.6"
  }
 },
 "nbformat": 4,
 "nbformat_minor": 5
}
