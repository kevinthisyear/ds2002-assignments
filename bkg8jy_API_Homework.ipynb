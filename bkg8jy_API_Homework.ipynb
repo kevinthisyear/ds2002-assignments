{
 "cells": [
  {
   "cell_type": "code",
   "execution_count": 48,
   "outputs": [],
   "source": [
    "import json\n",
    "import pandas as pd\n",
    "import requests"
   ],
   "metadata": {
    "collapsed": false,
    "ExecuteTime": {
     "end_time": "2024-09-29T20:15:53.142472Z",
     "start_time": "2024-09-29T20:15:53.136374Z"
    }
   },
   "id": "a5c9f706c0d7e988"
  },
  {
   "cell_type": "code",
   "execution_count": 49,
   "outputs": [],
   "source": [
    "stock = input(\"enter the stock ticker symbol: \")\n",
    "apikey = \"Ii1JSP9XiA9Xk46itzFe43U7Z64InunH4d5skuC3\" \n",
    "url = \"https://yfapi.net/v6/finance/quote\"\n",
    "querystring = {\"symbols\": stock}\n",
    "headers = {'x-api-key': apikey}"
   ],
   "metadata": {
    "collapsed": false,
    "ExecuteTime": {
     "end_time": "2024-09-29T20:15:58.816951Z",
     "start_time": "2024-09-29T20:15:53.637128Z"
    }
   },
   "id": "c1f29bb6764b9ee4"
  },
  {
   "cell_type": "code",
   "execution_count": 50,
   "outputs": [
    {
     "name": "stdout",
     "output_type": "stream",
     "text": [
      "ticker: GOOG\n",
      "full name: Alphabet Inc.\n",
      "current market price: $165.29\n",
      "target mean price: $198.92\n",
      "52 week high: $193.31\n",
      "52 week low: $121.46\n",
      "\n",
      "data saved to stock.csv.\n",
      "\n",
      "trending stocks:\n",
      "1: AMSC\n",
      "2: PWR\n",
      "3: VRT\n",
      "4: BBD\n",
      "5: SNAP\n"
     ]
    }
   ],
   "source": [
    "try:\n",
    "    response = requests.get(url, headers=headers, params=querystring)\n",
    "    response.raise_for_status()\n",
    "    stock_json = response.json()\n",
    "\n",
    "    if 'quoteResponse' in stock_json and len(stock_json['quoteResponse']['result']) > 0:\n",
    "        \n",
    "        stock_data = stock_json['quoteResponse']['result'][0]\n",
    "        ticker = stock_data.get('symbol', 'N/A')\n",
    "        full_name = stock_data.get('longName', 'N/A')\n",
    "        current_price = stock_data.get('regularMarketPrice', 'N/A')\n",
    "        \n",
    "        finance_url = \"https://yfapi.net/v11/finance/quoteSummary/\" + str(ticker)\n",
    "        finance_response = requests.get(finance_url, headers=headers, params={\"modules\": \"financialData\"})\n",
    "        finance_response.raise_for_status()\n",
    "        financial_data = finance_response.json().get('quoteSummary', {}).get('result', [{}])[0].get('financialData', {})\n",
    "        target_mean_price = financial_data.get('targetMeanPrice', {}).get('raw', 'N/A')\n",
    "        \n",
    "        week_high = stock_data.get('fiftyTwoWeekHigh', 'N/A')\n",
    "        week_low = stock_data.get('fiftyTwoWeekLow', 'N/A')\n",
    "        \n",
    "        print(\"ticker: \" + ticker + \"\\n\" +\n",
    "              \"full name: \" + full_name + \"\\n\" +\n",
    "              \"current market price: $\" + str(current_price) + \"\\n\" +\n",
    "              \"target mean price: $\" + str(target_mean_price) + \"\\n\" +\n",
    "              \"52 week high: $\" + str(week_high) + \"\\n\" +\n",
    "              \"52 week low: $\" + str(week_low))\n",
    "        \n",
    "        # save data frame\n",
    "        data = {\"ticker\": [ticker], \"full name\": [full_name], \"current price\": [current_price], \"target mean price\": [target_mean_price], \"52 week high\": [week_high], \"52 week low\": [week_low]}\n",
    "        \n",
    "        df = pd.DataFrame(data)\n",
    "        df.to_csv(\"stock.csv\", index=False)\n",
    "        print(\"\\ndata saved to stock.csv.\")\n",
    "        \n",
    "    else:\n",
    "        print(\"cannot get info for '\" + str(stock) + \"' and thus no csv created\")\n",
    "    \n",
    "    # 5 trending \n",
    "    trending_url = \"https://yfapi.net/v1/finance/trending/US\"\n",
    "    trending_response = requests.get(trending_url, headers=headers)\n",
    "    trending_response.raise_for_status()\n",
    "    trending_json = trending_response.json()\n",
    "\n",
    "    if 'finance' in trending_json and 'result' in trending_json['finance'] and len(trending_json['finance']['result']) > 0:\n",
    "        trending_stocks = trending_json['finance']['result'][0]['quotes']\n",
    "        print(\"\\ntrending stocks:\")\n",
    "        trending_symbols = []\n",
    "        count = 1\n",
    "        for stock in trending_stocks[:5]:\n",
    "            print(str(count) + \": \" + str(stock['symbol']))\n",
    "            count += 1\n",
    "            trending_symbols.append(stock['symbol'])\n",
    "    else:\n",
    "        print(\"no trending stock\")\n",
    " \n",
    "except (requests.exceptions.HTTPError, Exception) as error:\n",
    "    print(\"an error: \" + str(error))"
   ],
   "metadata": {
    "collapsed": false,
    "ExecuteTime": {
     "end_time": "2024-09-29T20:16:14.968486Z",
     "start_time": "2024-09-29T20:16:13.990141Z"
    }
   },
   "id": "initial_id"
  },
  {
   "cell_type": "code",
   "execution_count": null,
   "outputs": [],
   "source": [],
   "metadata": {
    "collapsed": false
   },
   "id": "76b125fc2d0e50f4"
  }
 ],
 "metadata": {
  "kernelspec": {
   "display_name": "Python 3",
   "language": "python",
   "name": "python3"
  },
  "language_info": {
   "codemirror_mode": {
    "name": "ipython",
    "version": 2
   },
   "file_extension": ".py",
   "mimetype": "text/x-python",
   "name": "python",
   "nbconvert_exporter": "python",
   "pygments_lexer": "ipython2",
   "version": "2.7.6"
  }
 },
 "nbformat": 4,
 "nbformat_minor": 5
}
